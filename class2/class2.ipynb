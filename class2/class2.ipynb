{
 "cells": [
  {
   "cell_type": "markdown",
   "metadata": {},
   "source": [
    "String Data type in python\n"
   ]
  },
  {
   "cell_type": "code",
   "execution_count": 1,
   "metadata": {},
   "outputs": [
    {
     "name": "stdout",
     "output_type": "stream",
     "text": [
      "<class 'str'>\n",
      "Hassan Raza\n"
     ]
    }
   ],
   "source": [
    "name:str=\"Hassan Raza\"\n",
    "print(type(name))\n",
    "print(name)"
   ]
  },
  {
   "cell_type": "code",
   "execution_count": 6,
   "metadata": {},
   "outputs": [
    {
     "name": "stdout",
     "output_type": "stream",
     "text": [
      "Name:Hassan Raza \n",
      "Father Name:Muhammad Zafar Iqbal\n"
     ]
    }
   ],
   "source": [
    "name:str = \"Hassan Raza\"\n",
    "Fname:str = \"Muhammad Zafar Iqbal\"\n",
    "message:str = f\"Name:{name} \\nFather Name:{Fname}\"\n",
    "print(message)"
   ]
  },
  {
   "cell_type": "code",
   "execution_count": 7,
   "metadata": {},
   "outputs": [
    {
     "name": "stdout",
     "output_type": "stream",
     "text": [
      "PIAIC Student card\n",
      "Student Name:hassan raza\n",
      "age:18\n"
     ]
    }
   ],
   "source": [
    "name:str = \"hassan raza\"\n",
    "age:int = 18\n",
    "card:str = \"PIAIC Student card\\nStudent Name:\" +name +\"\\nage:\"+str(age)\n",
    "print(card)"
   ]
  },
  {
   "cell_type": "code",
   "execution_count": 9,
   "metadata": {},
   "outputs": [
    {
     "name": "stdout",
     "output_type": "stream",
     "text": [
      "\n",
      "PIAIC Student Card\n",
      "Student name:hassan\n",
      "Father Name:Zafar Iqbal\n",
      "Age:18\n",
      "education:\n",
      "\n"
     ]
    }
   ],
   "source": [
    "_sName:str=\"hassan\"\n",
    "_fName:str = \"Zafar Iqbal\"\n",
    "_age:int = 18\n",
    "card:str = f\"\"\"\n",
    "PIAIC Student Card\n",
    "Student name:{_sName}\n",
    "Father Name:{_fName}\n",
    "Age:{_age}\n",
    "education:\n",
    "\"\"\"\n",
    "print(card)"
   ]
  },
  {
   "cell_type": "markdown",
   "metadata": {},
   "source": [
    "F_string and Jinja Style\n"
   ]
  },
  {
   "cell_type": "code",
   "execution_count": 15,
   "metadata": {},
   "outputs": [
    {
     "ename": "TypeError",
     "evalue": "unhashable type: 'set'",
     "output_type": "error",
     "traceback": [
      "\u001b[1;31m---------------------------------------------------------------------------\u001b[0m",
      "\u001b[1;31mTypeError\u001b[0m                                 Traceback (most recent call last)",
      "\u001b[1;32mf:\\learning python\\class2\\class2.ipynb Cell 7\u001b[0m line \u001b[0;36m7\n\u001b[0;32m      <a href='vscode-notebook-cell:/f%3A/learning%20python/class2/class2.ipynb#X10sZmlsZQ%3D%3D?line=1'>2</a>\u001b[0m \u001b[39mf\u001b[39m\u001b[39m\"\"\"\u001b[39m\n\u001b[0;32m      <a href='vscode-notebook-cell:/f%3A/learning%20python/class2/class2.ipynb#X10sZmlsZQ%3D%3D?line=2'>3</a>\u001b[0m \u001b[39mNAME:\u001b[39m\u001b[39m{\u001b[39;00mstudent\u001b[39m}\u001b[39;00m\n\u001b[0;32m      <a href='vscode-notebook-cell:/f%3A/learning%20python/class2/class2.ipynb#X10sZmlsZQ%3D%3D?line=3'>4</a>\u001b[0m \u001b[39m\"\"\"\u001b[39m\n\u001b[0;32m      <a href='vscode-notebook-cell:/f%3A/learning%20python/class2/class2.ipynb#X10sZmlsZQ%3D%3D?line=5'>6</a>\u001b[0m \u001b[39m# Jinja style\u001b[39;00m\n\u001b[1;32m----> <a href='vscode-notebook-cell:/f%3A/learning%20python/class2/class2.ipynb#X10sZmlsZQ%3D%3D?line=6'>7</a>\u001b[0m studentName\u001b[39m=\u001b[39m {{student}}\n\u001b[0;32m      <a href='vscode-notebook-cell:/f%3A/learning%20python/class2/class2.ipynb#X10sZmlsZQ%3D%3D?line=7'>8</a>\u001b[0m \u001b[39mprint\u001b[39m(studentName)\n",
      "\u001b[1;31mTypeError\u001b[0m: unhashable type: 'set'"
     ]
    }
   ],
   "source": [
    "student:str = \"ali\" \n",
    "f\"\"\"\n",
    "NAME:{student}\n",
    "\"\"\"\n",
    "\n",
    "# Jinja style\n",
    "studentName= {{student}}\n",
    "print(studentName)"
   ]
  },
  {
   "cell_type": "code",
   "execution_count": 16,
   "metadata": {},
   "outputs": [
    {
     "name": "stdout",
     "output_type": "stream",
     "text": [
      "pakistan =7 and pro=9\n"
     ]
    }
   ],
   "source": [
    "a=7\n",
    "b=9\n",
    "value= \"pakistan ={} and pro={}\".format(a,b)\n",
    "print(value)"
   ]
  },
  {
   "cell_type": "code",
   "execution_count": 24,
   "metadata": {},
   "outputs": [
    {
     "name": "stdout",
     "output_type": "stream",
     "text": [
      "Hassan raza\n",
      "hassan raza\n"
     ]
    }
   ],
   "source": [
    "name:str = \"HaSSan RaZa\"\n",
    "print(name.capitalize())\n",
    "print(name.lower())\n",
    "# print(name.center(2))\n",
    "# print(name.count())\n"
   ]
  },
  {
   "cell_type": "code",
   "execution_count": 28,
   "metadata": {},
   "outputs": [
    {
     "name": "stdout",
     "output_type": "stream",
     "text": [
      "my nmae is Hassan raza\n",
      "15\n"
     ]
    }
   ],
   "source": [
    "student_code: str = \"\"\"\n",
    "print(\"my nmae is Hassan raza\")\n",
    "a:int= 7\n",
    "b:int=8\n",
    "print(a+b)\n",
    "\"\"\"\n",
    "exec(student_code)"
   ]
  },
  {
   "cell_type": "code",
   "execution_count": 31,
   "metadata": {},
   "outputs": [
    {
     "data": {
      "text/plain": [
       "'      hassan       '"
      ]
     },
     "metadata": {},
     "output_type": "display_data"
    },
    {
     "data": {
      "text/plain": [
       "'hassan       '"
      ]
     },
     "metadata": {},
     "output_type": "display_data"
    },
    {
     "data": {
      "text/plain": [
       "'      hassan'"
      ]
     },
     "metadata": {},
     "output_type": "display_data"
    }
   ],
   "source": [
    "nmae:str = '      hassan       '\n",
    "display(nmae)\n",
    "display(nmae.lstrip())\n",
    "display(nmae.rstrip())"
   ]
  },
  {
   "cell_type": "code",
   "execution_count": 34,
   "metadata": {},
   "outputs": [
    {
     "data": {
      "text/plain": [
       "'    hasssan   raza'"
      ]
     },
     "metadata": {},
     "output_type": "display_data"
    },
    {
     "data": {
      "text/plain": [
       "' hasssan raza'"
      ]
     },
     "metadata": {},
     "output_type": "display_data"
    }
   ],
   "source": [
    "import re\n",
    "name:str = '    hasssan   raza'\n",
    "display(name)\n",
    "name1:str = re.sub(' {2,100}',' ',name )\n",
    "display(name1)"
   ]
  }
 ],
 "metadata": {
  "kernelspec": {
   "display_name": "py12",
   "language": "python",
   "name": "python3"
  },
  "language_info": {
   "codemirror_mode": {
    "name": "ipython",
    "version": 3
   },
   "file_extension": ".py",
   "mimetype": "text/x-python",
   "name": "python",
   "nbconvert_exporter": "python",
   "pygments_lexer": "ipython3",
   "version": "3.12.0"
  }
 },
 "nbformat": 4,
 "nbformat_minor": 2
}
